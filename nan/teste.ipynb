{
 "metadata": {
  "language_info": {
   "codemirror_mode": {
    "name": "ipython",
    "version": 3
   },
   "file_extension": ".py",
   "mimetype": "text/x-python",
   "name": "python",
   "nbconvert_exporter": "python",
   "pygments_lexer": "ipython3",
   "version": "3.9.0"
  },
  "orig_nbformat": 2,
  "kernelspec": {
   "name": "python390jvsc74a57bd063fd5069d213b44bf678585dea6b12cceca9941eaf7f819626cde1f2670de90d",
   "display_name": "Python 3.9.0 64-bit"
  },
  "metadata": {
   "interpreter": {
    "hash": "5da0c1dd41c4f0faf1f764602ad04938609cb47b377f9d54c5bb7ebcdd41e398"
   }
  }
 },
 "nbformat": 4,
 "nbformat_minor": 2,
 "cells": [
  {
   "cell_type": "code",
   "execution_count": 1,
   "metadata": {},
   "outputs": [],
   "source": [
    "import pandas as pd \n",
    "import numpy as np \n",
    "from sklearn.impute import SimpleImputer\n"
   ]
  },
  {
   "cell_type": "code",
   "execution_count": 12,
   "metadata": {},
   "outputs": [
    {
     "output_type": "execute_result",
     "data": {
      "text/plain": [
       "   Nome  Nota_1  Nota_2 Turma  Idade  Peso\n",
       "0  Iuru     NaN     1.0    01   20.0  68.0\n",
       "1  Yoru    10.0     2.0    02    NaN  90.0\n",
       "2  Sage     8.0     NaN   NaN   21.0   NaN"
      ],
      "text/html": "<div>\n<style scoped>\n    .dataframe tbody tr th:only-of-type {\n        vertical-align: middle;\n    }\n\n    .dataframe tbody tr th {\n        vertical-align: top;\n    }\n\n    .dataframe thead th {\n        text-align: right;\n    }\n</style>\n<table border=\"1\" class=\"dataframe\">\n  <thead>\n    <tr style=\"text-align: right;\">\n      <th></th>\n      <th>Nome</th>\n      <th>Nota_1</th>\n      <th>Nota_2</th>\n      <th>Turma</th>\n      <th>Idade</th>\n      <th>Peso</th>\n    </tr>\n  </thead>\n  <tbody>\n    <tr>\n      <th>0</th>\n      <td>Iuru</td>\n      <td>NaN</td>\n      <td>1.0</td>\n      <td>01</td>\n      <td>20.0</td>\n      <td>68.0</td>\n    </tr>\n    <tr>\n      <th>1</th>\n      <td>Yoru</td>\n      <td>10.0</td>\n      <td>2.0</td>\n      <td>02</td>\n      <td>NaN</td>\n      <td>90.0</td>\n    </tr>\n    <tr>\n      <th>2</th>\n      <td>Sage</td>\n      <td>8.0</td>\n      <td>NaN</td>\n      <td>NaN</td>\n      <td>21.0</td>\n      <td>NaN</td>\n    </tr>\n  </tbody>\n</table>\n</div>"
     },
     "metadata": {},
     "execution_count": 12
    }
   ],
   "source": [
    "dataframe = pd.DataFrame({\n",
    "\"Nome\": ['Iuru', 'Yoru', 'Sage'],\n",
    "\"Nota_1\": [np.nan, 10, 8],\n",
    "\"Nota_2\": [1, 2, np.nan],\n",
    "\"Turma\": [\"01\", \"02\", np.nan],\n",
    "\"Idade\": [20, np.nan, 21],\n",
    "\"Peso\": [68, 90, np.nan]\n",
    "})\n",
    "\n",
    "dataframe"
   ]
  },
  {
   "cell_type": "code",
   "execution_count": 13,
   "metadata": {},
   "outputs": [
    {
     "output_type": "stream",
     "name": "stdout",
     "text": [
      "<class 'pandas.core.frame.DataFrame'>\nRangeIndex: 3 entries, 0 to 2\nData columns (total 6 columns):\n #   Column  Non-Null Count  Dtype  \n---  ------  --------------  -----  \n 0   Nome    3 non-null      object \n 1   Nota_1  2 non-null      float64\n 2   Nota_2  2 non-null      float64\n 3   Turma   2 non-null      object \n 4   Idade   2 non-null      float64\n 5   Peso    2 non-null      float64\ndtypes: float64(4), object(2)\nmemory usage: 272.0+ bytes\n"
     ]
    }
   ],
   "source": [
    "dataframe.info()"
   ]
  },
  {
   "cell_type": "code",
   "execution_count": 14,
   "metadata": {},
   "outputs": [
    {
     "output_type": "execute_result",
     "data": {
      "text/plain": [
       "(3, 6)"
      ]
     },
     "metadata": {},
     "execution_count": 14
    }
   ],
   "source": [
    "dataframe.shape"
   ]
  },
  {
   "cell_type": "code",
   "execution_count": 15,
   "metadata": {},
   "outputs": [
    {
     "output_type": "execute_result",
     "data": {
      "text/plain": [
       "    Nome  Nota_1  Nota_2  Turma  Idade   Peso\n",
       "0  False    True   False  False  False  False\n",
       "1  False   False   False  False   True  False\n",
       "2  False   False    True   True  False   True"
      ],
      "text/html": "<div>\n<style scoped>\n    .dataframe tbody tr th:only-of-type {\n        vertical-align: middle;\n    }\n\n    .dataframe tbody tr th {\n        vertical-align: top;\n    }\n\n    .dataframe thead th {\n        text-align: right;\n    }\n</style>\n<table border=\"1\" class=\"dataframe\">\n  <thead>\n    <tr style=\"text-align: right;\">\n      <th></th>\n      <th>Nome</th>\n      <th>Nota_1</th>\n      <th>Nota_2</th>\n      <th>Turma</th>\n      <th>Idade</th>\n      <th>Peso</th>\n    </tr>\n  </thead>\n  <tbody>\n    <tr>\n      <th>0</th>\n      <td>False</td>\n      <td>True</td>\n      <td>False</td>\n      <td>False</td>\n      <td>False</td>\n      <td>False</td>\n    </tr>\n    <tr>\n      <th>1</th>\n      <td>False</td>\n      <td>False</td>\n      <td>False</td>\n      <td>False</td>\n      <td>True</td>\n      <td>False</td>\n    </tr>\n    <tr>\n      <th>2</th>\n      <td>False</td>\n      <td>False</td>\n      <td>True</td>\n      <td>True</td>\n      <td>False</td>\n      <td>True</td>\n    </tr>\n  </tbody>\n</table>\n</div>"
     },
     "metadata": {},
     "execution_count": 15
    }
   ],
   "source": [
    "dataframe.isnull()"
   ]
  },
  {
   "cell_type": "code",
   "execution_count": 16,
   "metadata": {},
   "outputs": [
    {
     "output_type": "execute_result",
     "data": {
      "text/plain": [
       "Nome      0\n",
       "Nota_1    1\n",
       "Nota_2    1\n",
       "Turma     1\n",
       "Idade     1\n",
       "Peso      1\n",
       "dtype: int64"
      ]
     },
     "metadata": {},
     "execution_count": 16
    }
   ],
   "source": [
    "dataframe.isnull().sum()"
   ]
  },
  {
   "cell_type": "code",
   "execution_count": 17,
   "metadata": {},
   "outputs": [
    {
     "output_type": "execute_result",
     "data": {
      "text/plain": [
       "Empty DataFrame\n",
       "Columns: [Nome, Nota_1, Nota_2, Turma, Idade, Peso]\n",
       "Index: []"
      ],
      "text/html": "<div>\n<style scoped>\n    .dataframe tbody tr th:only-of-type {\n        vertical-align: middle;\n    }\n\n    .dataframe tbody tr th {\n        vertical-align: top;\n    }\n\n    .dataframe thead th {\n        text-align: right;\n    }\n</style>\n<table border=\"1\" class=\"dataframe\">\n  <thead>\n    <tr style=\"text-align: right;\">\n      <th></th>\n      <th>Nome</th>\n      <th>Nota_1</th>\n      <th>Nota_2</th>\n      <th>Turma</th>\n      <th>Idade</th>\n      <th>Peso</th>\n    </tr>\n  </thead>\n  <tbody>\n  </tbody>\n</table>\n</div>"
     },
     "metadata": {},
     "execution_count": 17
    }
   ],
   "source": [
    "dataframe_clean = dataframe.dropna(inplace=False, axis=0)\n",
    "\n",
    "dataframe_clean"
   ]
  },
  {
   "cell_type": "code",
   "execution_count": 18,
   "metadata": {},
   "outputs": [],
   "source": [
    "frequentes = SimpleImputer(missing_values=np.nan, strategy='most_frequent')\n",
    "\n",
    "media = SimpleImputer(missing_values=np.nan, strategy='mean')\n",
    "\n",
    "mediana = SimpleImputer(missing_values=np.nan, strategy='median')\n",
    "\n",
    "constantes = SimpleImputer(missing_values=np.nan, strategy='constant', fill_value=0)"
   ]
  },
  {
   "cell_type": "code",
   "execution_count": 23,
   "metadata": {},
   "outputs": [
    {
     "output_type": "execute_result",
     "data": {
      "text/plain": [
       "   Nome  Nota_1  Nota_2 Turma  Idade  Peso\n",
       "0  Iuru     0.0     1.0    01   20.0  68.0\n",
       "1  Yoru    10.0     2.0    02   20.5  90.0\n",
       "2  Sage     8.0     0.0    01   21.0  79.0"
      ],
      "text/html": "<div>\n<style scoped>\n    .dataframe tbody tr th:only-of-type {\n        vertical-align: middle;\n    }\n\n    .dataframe tbody tr th {\n        vertical-align: top;\n    }\n\n    .dataframe thead th {\n        text-align: right;\n    }\n</style>\n<table border=\"1\" class=\"dataframe\">\n  <thead>\n    <tr style=\"text-align: right;\">\n      <th></th>\n      <th>Nome</th>\n      <th>Nota_1</th>\n      <th>Nota_2</th>\n      <th>Turma</th>\n      <th>Idade</th>\n      <th>Peso</th>\n    </tr>\n  </thead>\n  <tbody>\n    <tr>\n      <th>0</th>\n      <td>Iuru</td>\n      <td>0.0</td>\n      <td>1.0</td>\n      <td>01</td>\n      <td>20.0</td>\n      <td>68.0</td>\n    </tr>\n    <tr>\n      <th>1</th>\n      <td>Yoru</td>\n      <td>10.0</td>\n      <td>2.0</td>\n      <td>02</td>\n      <td>20.5</td>\n      <td>90.0</td>\n    </tr>\n    <tr>\n      <th>2</th>\n      <td>Sage</td>\n      <td>8.0</td>\n      <td>0.0</td>\n      <td>01</td>\n      <td>21.0</td>\n      <td>79.0</td>\n    </tr>\n  </tbody>\n</table>\n</div>"
     },
     "metadata": {},
     "execution_count": 23
    }
   ],
   "source": [
    "dataframe.Nota_1 = constantes.fit_transform(dataframe[['Nota_1']])\n",
    "dataframe.Nota_2 = constantes.fit_transform(dataframe[['Nota_2']])\n",
    "dataframe.Turma = frequentes.fit_transform(dataframe[['Turma']])\n",
    "dataframe.Idade = mediana.fit_transform(dataframe[['Idade']])\n",
    "dataframe.Peso = media.fit_transform(dataframe[['Peso']])\n",
    "\n",
    "dataframe"
   ]
  },
  {
   "cell_type": "code",
   "execution_count": null,
   "metadata": {},
   "outputs": [],
   "source": []
  }
 ]
}